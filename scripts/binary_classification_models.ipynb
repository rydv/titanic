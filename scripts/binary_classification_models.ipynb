{
 "cells": [
  {
   "cell_type": "code",
   "execution_count": 13,
   "id": "050c5927",
   "metadata": {},
   "outputs": [],
   "source": [
    "import pandas as pd\n",
    "import os\n",
    "from tensorflow import keras\n",
    "from tensorflow.keras import layers\n",
    "from sklearn.model_selection import train_test_split\n",
    "import pickle"
   ]
  },
  {
   "cell_type": "code",
   "execution_count": 8,
   "id": "e10e3667",
   "metadata": {},
   "outputs": [],
   "source": [
    "df = pd.read_csv('../data/preprocessed.csv')"
   ]
  },
  {
   "cell_type": "code",
   "execution_count": 9,
   "id": "cd0ecf5f",
   "metadata": {},
   "outputs": [
    {
     "data": {
      "text/html": [
       "<div>\n",
       "<style scoped>\n",
       "    .dataframe tbody tr th:only-of-type {\n",
       "        vertical-align: middle;\n",
       "    }\n",
       "\n",
       "    .dataframe tbody tr th {\n",
       "        vertical-align: top;\n",
       "    }\n",
       "\n",
       "    .dataframe thead th {\n",
       "        text-align: right;\n",
       "    }\n",
       "</style>\n",
       "<table border=\"1\" class=\"dataframe\">\n",
       "  <thead>\n",
       "    <tr style=\"text-align: right;\">\n",
       "      <th></th>\n",
       "      <th>Pclass</th>\n",
       "      <th>Sex</th>\n",
       "      <th>Age</th>\n",
       "      <th>SibSp</th>\n",
       "      <th>Parch</th>\n",
       "      <th>Fare</th>\n",
       "      <th>Embarked</th>\n",
       "      <th>y</th>\n",
       "    </tr>\n",
       "  </thead>\n",
       "  <tbody>\n",
       "    <tr>\n",
       "      <th>0</th>\n",
       "      <td>1.0</td>\n",
       "      <td>1.0</td>\n",
       "      <td>0.271174</td>\n",
       "      <td>0.125</td>\n",
       "      <td>0.000000</td>\n",
       "      <td>0.014151</td>\n",
       "      <td>1.0</td>\n",
       "      <td>0</td>\n",
       "    </tr>\n",
       "    <tr>\n",
       "      <th>1</th>\n",
       "      <td>0.0</td>\n",
       "      <td>0.0</td>\n",
       "      <td>0.472229</td>\n",
       "      <td>0.125</td>\n",
       "      <td>0.000000</td>\n",
       "      <td>0.139136</td>\n",
       "      <td>0.5</td>\n",
       "      <td>1</td>\n",
       "    </tr>\n",
       "    <tr>\n",
       "      <th>2</th>\n",
       "      <td>1.0</td>\n",
       "      <td>0.0</td>\n",
       "      <td>0.321438</td>\n",
       "      <td>0.000</td>\n",
       "      <td>0.000000</td>\n",
       "      <td>0.015469</td>\n",
       "      <td>1.0</td>\n",
       "      <td>1</td>\n",
       "    </tr>\n",
       "    <tr>\n",
       "      <th>3</th>\n",
       "      <td>0.0</td>\n",
       "      <td>0.0</td>\n",
       "      <td>0.434531</td>\n",
       "      <td>0.125</td>\n",
       "      <td>0.000000</td>\n",
       "      <td>0.103644</td>\n",
       "      <td>1.0</td>\n",
       "      <td>1</td>\n",
       "    </tr>\n",
       "    <tr>\n",
       "      <th>4</th>\n",
       "      <td>1.0</td>\n",
       "      <td>1.0</td>\n",
       "      <td>0.434531</td>\n",
       "      <td>0.000</td>\n",
       "      <td>0.000000</td>\n",
       "      <td>0.015713</td>\n",
       "      <td>1.0</td>\n",
       "      <td>0</td>\n",
       "    </tr>\n",
       "    <tr>\n",
       "      <th>...</th>\n",
       "      <td>...</td>\n",
       "      <td>...</td>\n",
       "      <td>...</td>\n",
       "      <td>...</td>\n",
       "      <td>...</td>\n",
       "      <td>...</td>\n",
       "      <td>...</td>\n",
       "      <td>...</td>\n",
       "    </tr>\n",
       "    <tr>\n",
       "      <th>886</th>\n",
       "      <td>0.5</td>\n",
       "      <td>1.0</td>\n",
       "      <td>0.334004</td>\n",
       "      <td>0.000</td>\n",
       "      <td>0.000000</td>\n",
       "      <td>0.025374</td>\n",
       "      <td>1.0</td>\n",
       "      <td>0</td>\n",
       "    </tr>\n",
       "    <tr>\n",
       "      <th>887</th>\n",
       "      <td>0.0</td>\n",
       "      <td>0.0</td>\n",
       "      <td>0.233476</td>\n",
       "      <td>0.000</td>\n",
       "      <td>0.000000</td>\n",
       "      <td>0.058556</td>\n",
       "      <td>1.0</td>\n",
       "      <td>1</td>\n",
       "    </tr>\n",
       "    <tr>\n",
       "      <th>888</th>\n",
       "      <td>1.0</td>\n",
       "      <td>0.0</td>\n",
       "      <td>0.367932</td>\n",
       "      <td>0.125</td>\n",
       "      <td>0.333333</td>\n",
       "      <td>0.045771</td>\n",
       "      <td>1.0</td>\n",
       "      <td>0</td>\n",
       "    </tr>\n",
       "    <tr>\n",
       "      <th>889</th>\n",
       "      <td>0.0</td>\n",
       "      <td>1.0</td>\n",
       "      <td>0.321438</td>\n",
       "      <td>0.000</td>\n",
       "      <td>0.000000</td>\n",
       "      <td>0.058556</td>\n",
       "      <td>0.5</td>\n",
       "      <td>1</td>\n",
       "    </tr>\n",
       "    <tr>\n",
       "      <th>890</th>\n",
       "      <td>1.0</td>\n",
       "      <td>1.0</td>\n",
       "      <td>0.396833</td>\n",
       "      <td>0.000</td>\n",
       "      <td>0.000000</td>\n",
       "      <td>0.015127</td>\n",
       "      <td>0.0</td>\n",
       "      <td>0</td>\n",
       "    </tr>\n",
       "  </tbody>\n",
       "</table>\n",
       "<p>891 rows × 8 columns</p>\n",
       "</div>"
      ],
      "text/plain": [
       "     Pclass  Sex       Age  SibSp     Parch      Fare  Embarked  y\n",
       "0       1.0  1.0  0.271174  0.125  0.000000  0.014151       1.0  0\n",
       "1       0.0  0.0  0.472229  0.125  0.000000  0.139136       0.5  1\n",
       "2       1.0  0.0  0.321438  0.000  0.000000  0.015469       1.0  1\n",
       "3       0.0  0.0  0.434531  0.125  0.000000  0.103644       1.0  1\n",
       "4       1.0  1.0  0.434531  0.000  0.000000  0.015713       1.0  0\n",
       "..      ...  ...       ...    ...       ...       ...       ... ..\n",
       "886     0.5  1.0  0.334004  0.000  0.000000  0.025374       1.0  0\n",
       "887     0.0  0.0  0.233476  0.000  0.000000  0.058556       1.0  1\n",
       "888     1.0  0.0  0.367932  0.125  0.333333  0.045771       1.0  0\n",
       "889     0.0  1.0  0.321438  0.000  0.000000  0.058556       0.5  1\n",
       "890     1.0  1.0  0.396833  0.000  0.000000  0.015127       0.0  0\n",
       "\n",
       "[891 rows x 8 columns]"
      ]
     },
     "execution_count": 9,
     "metadata": {},
     "output_type": "execute_result"
    }
   ],
   "source": [
    "df"
   ]
  },
  {
   "cell_type": "code",
   "execution_count": 10,
   "id": "e7e0ada4",
   "metadata": {},
   "outputs": [],
   "source": [
    "X = df[['Pclass','Sex','Age','SibSp','Parch','Fare','Embarked']].values\n",
    "y = df['y'].values"
   ]
  },
  {
   "cell_type": "code",
   "execution_count": 11,
   "id": "4c649e19",
   "metadata": {},
   "outputs": [],
   "source": [
    "X_train, X_val, y_train, y_val = train_test_split(X,y, train_size=0.8)"
   ]
  },
  {
   "cell_type": "code",
   "execution_count": 14,
   "id": "7f402d52",
   "metadata": {},
   "outputs": [],
   "source": [
    "#Deep learning model\n",
    "\n",
    "model = keras.Sequential([\n",
    "    layers.Dense(8, activation='relu', input_shape=[7]),\n",
    "    layers.Dense(16, activation='relu'),\n",
    "    layers.Dense(32, activation='relu'),\n",
    "    layers.Dense(16, activation='relu'),\n",
    "    layers.Dense(8, activation ='relu'),\n",
    "    layers.Dense(1, activation='sigmoid'),\n",
    "])\n",
    "\n",
    "model.compile(\n",
    "    optimizer='adam',\n",
    "    loss='binary_crossentropy',\n",
    "    metrics=['binary_accuracy'],\n",
    ")\n",
    "\n",
    "history = model.fit(\n",
    "    X_train, y_train,\n",
    "    validation_data=(X_val, y_val),\n",
    "    batch_size=8,\n",
    "    epochs=50,\n",
    "    verbose=0, # hide the output because we have so many epochs\n",
    ")"
   ]
  },
  {
   "cell_type": "code",
   "execution_count": 15,
   "id": "e5162110",
   "metadata": {},
   "outputs": [
    {
     "name": "stdout",
     "output_type": "stream",
     "text": [
      "Best Validation Loss: 0.3985\n",
      "Best Validation Accuracy: 0.8324\n"
     ]
    },
    {
     "data": {
      "image/png": "[encoded data removed]",
      "text/plain": [
       "<Figure size 432x288 with 1 Axes>"
      ]
     },
     "metadata": {
      "needs_background": "light"
     },
     "output_type": "display_data"
    },
    {
     "data": {
      "image/png": "[encoded data removed]",
      "text/plain": [
       "<Figure size 432x288 with 1 Axes>"
      ]
     },
     "metadata": {
      "needs_background": "light"
     },
     "output_type": "display_data"
    }
   ],
   "source": [
    "history_df = pd.DataFrame(history.history)\n",
    "# Start the plot at epoch 5\n",
    "history_df.loc[5:, ['loss', 'val_loss']].plot()\n",
    "history_df.loc[5:, ['binary_accuracy', 'val_binary_accuracy']].plot()\n",
    "\n",
    "print((\"Best Validation Loss: {:0.4f}\" +\\\n",
    "      \"\\nBest Validation Accuracy: {:0.4f}\")\\\n",
    "      .format(history_df['val_loss'].min(), \n",
    "              history_df['val_binary_accuracy'].max()))"
   ]
  },
  {
   "cell_type": "code",
   "execution_count": 16,
   "id": "79126995",
   "metadata": {},
   "outputs": [],
   "source": [
    "weigh= model.get_weights()\n",
    "p = open('../static/models/nn_weigh.pkl','wb')\n",
    "pickle.dump(weigh,p)\n",
    "p.close()"
   ]
  },
  {
   "cell_type": "code",
   "execution_count": 18,
   "id": "66b030aa",
   "metadata": {},
   "outputs": [
    {
     "name": "stdout",
     "output_type": "stream",
     "text": [
      "score on test: 0.6759776536312849\n",
      "score on train: 0.6825842696629213\n"
     ]
    }
   ],
   "source": [
    "#Naive Bayes multinomial\n",
    "from sklearn.naive_bayes import MultinomialNB\n",
    "mnb = MultinomialNB().fit(X_train, y_train)\n",
    "print(\"score on test: \" + str(mnb.score(X_val, y_val)))\n",
    "print(\"score on train: \"+ str(mnb.score(X_train, y_train)))"
   ]
  },
  {
   "cell_type": "code",
   "execution_count": 19,
   "id": "ae213720",
   "metadata": {},
   "outputs": [
    {
     "name": "stdout",
     "output_type": "stream",
     "text": [
      "score on test: 0.7932960893854749\n",
      "score on train: 0.7991573033707865\n"
     ]
    }
   ],
   "source": [
    "#Logistic regression\n",
    "from sklearn.linear_model import LogisticRegression\n",
    "lr=LogisticRegression(max_iter=1000)\n",
    "lr.fit(X_train, y_train)\n",
    "print(\"score on test: \" + str(lr.score(X_val, y_val)))\n",
    "print(\"score on train: \"+ str(lr.score(X_train, y_train)))"
   ]
  },
  {
   "cell_type": "code",
   "execution_count": 20,
   "id": "deee4a73",
   "metadata": {},
   "outputs": [
    {
     "name": "stdout",
     "output_type": "stream",
     "text": [
      "score on test: 0.8100558659217877\n",
      "score on train: 0.848314606741573\n"
     ]
    }
   ],
   "source": [
    "#KNN model\n",
    "from sklearn.neighbors import KNeighborsClassifier\n",
    "\n",
    "knn = KNeighborsClassifier(algorithm = 'brute', n_jobs=-1)\n",
    "knn.fit(X_train, y_train)\n",
    "\n",
    "print(\"score on test: \" + str(knn.score(X_val, y_val)))\n",
    "print(\"score on train: \"+ str(knn.score(X_train, y_train)))"
   ]
  },
  {
   "cell_type": "code",
   "execution_count": 21,
   "id": "5d01e030",
   "metadata": {},
   "outputs": [
    {
     "name": "stdout",
     "output_type": "stream",
     "text": [
      "score on test: 0.6145251396648045\n",
      "score on train: 0.6165730337078652\n"
     ]
    }
   ],
   "source": [
    "#SVM Model\n",
    "from sklearn.svm import LinearSVC\n",
    "\n",
    "svm=LinearSVC(C=0.0002)\n",
    "svm.fit(X_train, y_train)\n",
    "\n",
    "print(\"score on test: \" + str(svm.score(X_val, y_val)))\n",
    "print(\"score on train: \"+ str(svm.score(X_train, y_train)))"
   ]
  },
  {
   "cell_type": "code",
   "execution_count": 22,
   "id": "29b75276",
   "metadata": {},
   "outputs": [
    {
     "name": "stdout",
     "output_type": "stream",
     "text": [
      "score on test: 0.7988826815642458\n",
      "score on train: 0.9859550561797753\n"
     ]
    }
   ],
   "source": [
    "#Decision Tree\n",
    "from sklearn.tree import DecisionTreeClassifier\n",
    "\n",
    "clf = DecisionTreeClassifier()\n",
    "clf.fit(X_train, y_train)\n",
    "\n",
    "print(\"score on test: \" + str(clf.score(X_val, y_val)))\n",
    "print(\"score on train: \"+ str(clf.score(X_train, y_train)))"
   ]
  },
  {
   "cell_type": "code",
   "execution_count": 23,
   "id": "2a19bf64",
   "metadata": {},
   "outputs": [
    {
     "name": "stdout",
     "output_type": "stream",
     "text": [
      "score on test: 0.8379888268156425\n",
      "score on train: 0.9115168539325843\n"
     ]
    }
   ],
   "source": [
    "#Bagging with DecisionTree\n",
    "from sklearn.ensemble import BaggingClassifier\n",
    "from sklearn.tree import DecisionTreeClassifier\n",
    "# max_samples: maximum size 0.5=50% of each sample taken from the full dataset\n",
    "# max_features: maximum of features 1=100% taken here all 10K \n",
    "# n_estimators: number of decision trees \n",
    "bg=BaggingClassifier(DecisionTreeClassifier(),max_samples=0.5,max_features=1.0,n_estimators=10)\n",
    "bg.fit(X_train, y_train)\n",
    "print(\"score on test: \" + str(bg.score(X_val, y_val)))\n",
    "print(\"score on train: \"+ str(bg.score(X_train, y_train)))"
   ]
  },
  {
   "cell_type": "code",
   "execution_count": 24,
   "id": "f84cdec4",
   "metadata": {},
   "outputs": [
    {
     "name": "stdout",
     "output_type": "stream",
     "text": [
      "score on test: 0.7988826815642458\n",
      "score on train: 0.9087078651685393\n"
     ]
    }
   ],
   "source": [
    "#AdaBoost with DecisionTree\n",
    "from sklearn.ensemble import AdaBoostClassifier\n",
    "from sklearn.tree import DecisionTreeClassifier\n",
    "adb = AdaBoostClassifier(DecisionTreeClassifier(min_samples_split=10,max_depth=4),n_estimators=10,learning_rate=0.6)\n",
    "adb.fit(X_train, y_train)\n",
    "print(\"score on test: \" + str(adb.score(X_val, y_val)))\n",
    "print(\"score on train: \"+ str(adb.score(X_train, y_train)))"
   ]
  },
  {
   "cell_type": "code",
   "execution_count": 26,
   "id": "8b955691",
   "metadata": {},
   "outputs": [
    {
     "name": "stdout",
     "output_type": "stream",
     "text": [
      "score on test: 0.8491620111731844\n",
      "score on train: 0.9185393258426966\n"
     ]
    }
   ],
   "source": [
    "#Random Forest Classifier\n",
    "from sklearn.ensemble import RandomForestClassifier\n",
    "# n_estimators = number of decision trees\n",
    "rf = RandomForestClassifier(n_estimators=30, max_depth=9)\n",
    "rf.fit(X_train, y_train)\n",
    "print(\"score on test: \" + str(rf.score(X_val, y_val)))\n",
    "print(\"score on train: \"+ str(rf.score(X_train, y_train)))"
   ]
  },
  {
   "cell_type": "code",
   "execution_count": 28,
   "id": "6d635fb1",
   "metadata": {},
   "outputs": [
    {
     "data": {
      "text/plain": [
       "array([0, 0, 1, 1, 1, 0, 1, 0, 0, 0, 0, 0, 1, 0, 1, 0, 0, 0, 1, 0, 1, 0,\n",
       "       0, 1, 0, 0, 0, 0, 1, 1, 0, 1, 0, 0, 0, 0, 0, 0, 0, 0, 0, 1, 0, 0,\n",
       "       1, 0, 1, 0, 0, 0, 1, 0, 0, 0, 1, 0, 0, 0, 0, 0, 0, 1, 1, 1, 0, 1,\n",
       "       0, 1, 0, 0, 0, 0, 0, 1, 0, 0, 1, 1, 1, 0, 0, 0, 1, 0, 0, 1, 0, 0,\n",
       "       0, 0, 0, 0, 0, 1, 1, 0, 0, 0, 0, 1, 0, 1, 1, 1, 1, 0, 0, 0, 0, 0,\n",
       "       1, 0, 1, 1, 0, 0, 1, 0, 0, 0, 0, 1, 0, 0, 0, 1, 1, 1, 0, 1, 0, 0,\n",
       "       1, 0, 0, 0, 0, 0, 0, 0, 0, 0, 0, 0, 1, 1, 1, 0, 1, 1, 1, 1, 0, 1,\n",
       "       0, 0, 0, 0, 0, 1, 1, 0, 0, 1, 0, 1, 0, 0, 1, 0, 0, 0, 1, 0, 0, 0,\n",
       "       1, 0, 0], dtype=int64)"
      ]
     },
     "execution_count": 28,
     "metadata": {},
     "output_type": "execute_result"
    }
   ],
   "source": [
    "rf.predict(X_val)"
   ]
  },
  {
   "cell_type": "code",
   "execution_count": 27,
   "id": "342456fe",
   "metadata": {},
   "outputs": [
    {
     "name": "stdout",
     "output_type": "stream",
     "text": [
      "score on test: 0.7039106145251397\n",
      "score on train: 0.7036516853932584\n"
     ]
    }
   ],
   "source": [
    "#Voting Classifier\n",
    "from sklearn.ensemble import VotingClassifier\n",
    "# 1) naive bias = mnb\n",
    "# 2) logistic regression =lr\n",
    "# 3) random forest =rf\n",
    "# 4) support vector machine = svm\n",
    "evc=VotingClassifier(estimators=[('mnb',mnb),('lr',lr),('rf',rf),('svm',svm)],voting='hard')\n",
    "evc.fit(X_train, y_train)\n",
    "print(\"score on test: \" + str(evc.score(X_val, y_val)))\n",
    "print(\"score on train: \"+ str(evc.score(X_train, y_train)))"
   ]
  },
  {
   "cell_type": "code",
   "execution_count": 19,
   "id": "99b4cd92",
   "metadata": {},
   "outputs": [
    {
     "name": "stdout",
     "output_type": "stream",
     "text": [
      "Epoch 1/50\n",
      "45/45 [==============================] - 4s 10ms/step - loss: 0.6781 - accuracy: 0.5787 - val_loss: 0.6403 - val_accuracy: 0.6313\n",
      "Epoch 2/50\n",
      "45/45 [==============================] - 0s 4ms/step - loss: 0.6240 - accuracy: 0.6194 - val_loss: 0.6001 - val_accuracy: 0.6704\n",
      "Epoch 3/50\n",
      "45/45 [==============================] - 0s 2ms/step - loss: 0.5923 - accuracy: 0.6742 - val_loss: 0.5687 - val_accuracy: 0.7318\n",
      "Epoch 4/50\n",
      "45/45 [==============================] - 0s 2ms/step - loss: 0.5670 - accuracy: 0.7191 - val_loss: 0.5419 - val_accuracy: 0.7821\n",
      "Epoch 5/50\n",
      "45/45 [==============================] - 0s 2ms/step - loss: 0.5418 - accuracy: 0.7444 - val_loss: 0.5153 - val_accuracy: 0.7765\n",
      "Epoch 6/50\n",
      "45/45 [==============================] - 0s 2ms/step - loss: 0.5200 - accuracy: 0.7626 - val_loss: 0.4941 - val_accuracy: 0.7933\n",
      "Epoch 7/50\n",
      "45/45 [==============================] - 0s 2ms/step - loss: 0.5045 - accuracy: 0.7809 - val_loss: 0.4825 - val_accuracy: 0.7933\n",
      "Epoch 8/50\n",
      "45/45 [==============================] - ETA: 0s - loss: 0.4965 - accuracy: 0.77 - 0s 2ms/step - loss: 0.4949 - accuracy: 0.7809 - val_loss: 0.4727 - val_accuracy: 0.7933\n",
      "Epoch 9/50\n",
      "45/45 [==============================] - 0s 2ms/step - loss: 0.4882 - accuracy: 0.7865 - val_loss: 0.4644 - val_accuracy: 0.7933\n",
      "Epoch 10/50\n",
      "45/45 [==============================] - 0s 2ms/step - loss: 0.4826 - accuracy: 0.7879 - val_loss: 0.4610 - val_accuracy: 0.7877\n",
      "Epoch 11/50\n",
      "45/45 [==============================] - 0s 2ms/step - loss: 0.4765 - accuracy: 0.7893 - val_loss: 0.4519 - val_accuracy: 0.8101\n",
      "Epoch 12/50\n",
      "45/45 [==============================] - 0s 2ms/step - loss: 0.4738 - accuracy: 0.7865 - val_loss: 0.4470 - val_accuracy: 0.8101\n",
      "Epoch 13/50\n",
      "45/45 [==============================] - 0s 2ms/step - loss: 0.4703 - accuracy: 0.7837 - val_loss: 0.4430 - val_accuracy: 0.8045\n",
      "Epoch 14/50\n",
      "45/45 [==============================] - 0s 2ms/step - loss: 0.4665 - accuracy: 0.7921 - val_loss: 0.4377 - val_accuracy: 0.8045\n",
      "Epoch 15/50\n",
      "45/45 [==============================] - 0s 2ms/step - loss: 0.4648 - accuracy: 0.7921 - val_loss: 0.4402 - val_accuracy: 0.7989\n",
      "Epoch 16/50\n",
      "45/45 [==============================] - 0s 2ms/step - loss: 0.4628 - accuracy: 0.7907 - val_loss: 0.4328 - val_accuracy: 0.7989\n",
      "Epoch 17/50\n",
      "45/45 [==============================] - 0s 2ms/step - loss: 0.4601 - accuracy: 0.7949 - val_loss: 0.4264 - val_accuracy: 0.8101\n",
      "Epoch 18/50\n",
      "45/45 [==============================] - 0s 2ms/step - loss: 0.4594 - accuracy: 0.7949 - val_loss: 0.4266 - val_accuracy: 0.7989\n",
      "Epoch 19/50\n",
      "45/45 [==============================] - 0s 2ms/step - loss: 0.4572 - accuracy: 0.7992 - val_loss: 0.4230 - val_accuracy: 0.8045\n",
      "Epoch 20/50\n",
      "45/45 [==============================] - 0s 2ms/step - loss: 0.4558 - accuracy: 0.7949 - val_loss: 0.4227 - val_accuracy: 0.8045\n",
      "Epoch 21/50\n",
      "45/45 [==============================] - 0s 2ms/step - loss: 0.4547 - accuracy: 0.7949 - val_loss: 0.4223 - val_accuracy: 0.8045\n",
      "Epoch 22/50\n",
      "45/45 [==============================] - 0s 2ms/step - loss: 0.4531 - accuracy: 0.7978 - val_loss: 0.4164 - val_accuracy: 0.8101\n",
      "Epoch 23/50\n",
      "45/45 [==============================] - 0s 2ms/step - loss: 0.4518 - accuracy: 0.7949 - val_loss: 0.4119 - val_accuracy: 0.8101\n",
      "Epoch 24/50\n",
      "45/45 [==============================] - 0s 2ms/step - loss: 0.4519 - accuracy: 0.7978 - val_loss: 0.4131 - val_accuracy: 0.8101\n",
      "Epoch 25/50\n",
      "45/45 [==============================] - 0s 2ms/step - loss: 0.4502 - accuracy: 0.8020 - val_loss: 0.4142 - val_accuracy: 0.8101\n",
      "Epoch 26/50\n",
      "45/45 [==============================] - 0s 2ms/step - loss: 0.4491 - accuracy: 0.7963 - val_loss: 0.4145 - val_accuracy: 0.8101\n",
      "Epoch 27/50\n",
      "45/45 [==============================] - 0s 2ms/step - loss: 0.4481 - accuracy: 0.7949 - val_loss: 0.4068 - val_accuracy: 0.8156\n",
      "Epoch 28/50\n",
      "45/45 [==============================] - 0s 3ms/step - loss: 0.4472 - accuracy: 0.7992 - val_loss: 0.4014 - val_accuracy: 0.8212\n",
      "Epoch 29/50\n",
      "45/45 [==============================] - 0s 3ms/step - loss: 0.4474 - accuracy: 0.7978 - val_loss: 0.4023 - val_accuracy: 0.8268\n",
      "Epoch 30/50\n",
      "45/45 [==============================] - 0s 3ms/step - loss: 0.4448 - accuracy: 0.8006 - val_loss: 0.4033 - val_accuracy: 0.8156\n",
      "Epoch 31/50\n",
      "45/45 [==============================] - 0s 2ms/step - loss: 0.4453 - accuracy: 0.8034 - val_loss: 0.3984 - val_accuracy: 0.8268\n",
      "Epoch 32/50\n",
      "45/45 [==============================] - 0s 2ms/step - loss: 0.4431 - accuracy: 0.8118 - val_loss: 0.3994 - val_accuracy: 0.8212\n",
      "Epoch 33/50\n",
      "45/45 [==============================] - 0s 3ms/step - loss: 0.4384 - accuracy: 0.8090 - val_loss: 0.4144 - val_accuracy: 0.8045\n",
      "Epoch 34/50\n",
      "45/45 [==============================] - 0s 3ms/step - loss: 0.4425 - accuracy: 0.8020 - val_loss: 0.3934 - val_accuracy: 0.8268\n",
      "Epoch 35/50\n",
      "45/45 [==============================] - 0s 2ms/step - loss: 0.4421 - accuracy: 0.8048 - val_loss: 0.3921 - val_accuracy: 0.8268\n",
      "Epoch 36/50\n",
      "45/45 [==============================] - 0s 3ms/step - loss: 0.4407 - accuracy: 0.8062 - val_loss: 0.3940 - val_accuracy: 0.8268\n",
      "Epoch 37/50\n",
      "45/45 [==============================] - 0s 2ms/step - loss: 0.4408 - accuracy: 0.8034 - val_loss: 0.3917 - val_accuracy: 0.8268\n",
      "Epoch 38/50\n",
      "45/45 [==============================] - 0s 2ms/step - loss: 0.4398 - accuracy: 0.8076 - val_loss: 0.3983 - val_accuracy: 0.8101\n",
      "Epoch 39/50\n",
      "45/45 [==============================] - 0s 2ms/step - loss: 0.4393 - accuracy: 0.8006 - val_loss: 0.3964 - val_accuracy: 0.8101\n",
      "Epoch 40/50\n",
      "45/45 [==============================] - 0s 2ms/step - loss: 0.4398 - accuracy: 0.8020 - val_loss: 0.3898 - val_accuracy: 0.8268\n",
      "Epoch 41/50\n",
      "45/45 [==============================] - 0s 2ms/step - loss: 0.4383 - accuracy: 0.8034 - val_loss: 0.3877 - val_accuracy: 0.8268\n",
      "Epoch 42/50\n",
      "45/45 [==============================] - 0s 2ms/step - loss: 0.4375 - accuracy: 0.8076 - val_loss: 0.3921 - val_accuracy: 0.8268\n",
      "Epoch 43/50\n",
      "45/45 [==============================] - 0s 2ms/step - loss: 0.4375 - accuracy: 0.8076 - val_loss: 0.3887 - val_accuracy: 0.8268\n",
      "Epoch 44/50\n",
      "45/45 [==============================] - 0s 2ms/step - loss: 0.4370 - accuracy: 0.8104 - val_loss: 0.3831 - val_accuracy: 0.8324\n",
      "Epoch 45/50\n",
      "45/45 [==============================] - 0s 2ms/step - loss: 0.4363 - accuracy: 0.8034 - val_loss: 0.3865 - val_accuracy: 0.8268\n",
      "Epoch 46/50\n",
      "45/45 [==============================] - 0s 3ms/step - loss: 0.4365 - accuracy: 0.8034 - val_loss: 0.3819 - val_accuracy: 0.8268\n",
      "Epoch 47/50\n",
      "45/45 [==============================] - 0s 3ms/step - loss: 0.4354 - accuracy: 0.8146 - val_loss: 0.3861 - val_accuracy: 0.8268\n",
      "Epoch 48/50\n",
      "45/45 [==============================] - 0s 2ms/step - loss: 0.4357 - accuracy: 0.8062 - val_loss: 0.3908 - val_accuracy: 0.8156\n",
      "Epoch 49/50\n",
      "45/45 [==============================] - 0s 3ms/step - loss: 0.4346 - accuracy: 0.8034 - val_loss: 0.3780 - val_accuracy: 0.8212\n",
      "Epoch 50/50\n",
      "45/45 [==============================] - 0s 2ms/step - loss: 0.4352 - accuracy: 0.8034 - val_loss: 0.3815 - val_accuracy: 0.8156\n",
      "6/6 [==============================] - 0s 3ms/step - loss: 0.3815 - accuracy: 0.8156\n",
      "score on test: 0.8156424760818481\n",
      "23/23 [==============================] - 0s 1ms/step - loss: 0.4313 - accuracy: 0.8118\n",
      "score on train: 0.8117977380752563\n"
     ]
    }
   ],
   "source": [
    "from keras import layers\n",
    "from keras import models\n",
    "from keras import optimizers\n",
    "from keras import losses\n",
    "from keras import metrics\n",
    "\n",
    "model=models.Sequential()\n",
    "model.add(layers.Dense(16,activation='relu',input_shape=(7,)))\n",
    "model.add(layers.Dense(16,activation='relu'))\n",
    "model.add(layers.Dense(1,activation='sigmoid'))\n",
    "model.compile(optimizer='rmsprop',loss='binary_crossentropy',metrics=['accuracy'])\n",
    "model.fit(X_train,y_train,epochs=50,batch_size=16,validation_data=(X_val,y_val))\n",
    "print(\"score on test: \" + str(model.evaluate(X_val,y_val)[1]))\n",
    "print(\"score on train: \"+ str(model.evaluate(X_train,y_train)[1]))"
   ]
  },
  {
   "cell_type": "code",
   "execution_count": null,
   "id": "185b3370",
   "metadata": {},
   "outputs": [],
   "source": []
  },
  {
   "cell_type": "code",
   "execution_count": 65,
   "id": "b37fb37f",
   "metadata": {},
   "outputs": [],
   "source": [
    "#Prediction Test data"
   ]
  },
  {
   "cell_type": "code",
   "execution_count": 108,
   "id": "f7ce99e6",
   "metadata": {},
   "outputs": [],
   "source": [
    "test_data = pd.read_csv(r\"D:\\Learnings\\kaggle-projects\\titanic\\data\\test.csv\")"
   ]
  },
  {
   "cell_type": "code",
   "execution_count": 92,
   "id": "e983c7e3",
   "metadata": {},
   "outputs": [],
   "source": [
    "feature_cols = ['Pclass','Sex', 'Age', 'SibSp','Parch', 'Fare', 'Embarked']\n",
    "labled_cols = ['Pclass', 'Age', 'SibSp','Parch', 'Fare']"
   ]
  },
  {
   "cell_type": "code",
   "execution_count": 93,
   "id": "a027f13f",
   "metadata": {},
   "outputs": [],
   "source": [
    "test_data = test_data[feature_cols]"
   ]
  },
  {
   "cell_type": "code",
   "execution_count": 94,
   "id": "277e04d1",
   "metadata": {},
   "outputs": [
    {
     "name": "stdout",
     "output_type": "stream",
     "text": [
      "<class 'pandas.core.frame.DataFrame'>\n",
      "RangeIndex: 418 entries, 0 to 417\n",
      "Data columns (total 7 columns):\n",
      " #   Column    Non-Null Count  Dtype  \n",
      "---  ------    --------------  -----  \n",
      " 0   Pclass    418 non-null    int64  \n",
      " 1   Sex       418 non-null    object \n",
      " 2   Age       332 non-null    float64\n",
      " 3   SibSp     418 non-null    int64  \n",
      " 4   Parch     418 non-null    int64  \n",
      " 5   Fare      417 non-null    float64\n",
      " 6   Embarked  418 non-null    object \n",
      "dtypes: float64(2), int64(3), object(2)\n",
      "memory usage: 23.0+ KB\n"
     ]
    }
   ],
   "source": [
    "test_data.info()"
   ]
  },
  {
   "cell_type": "code",
   "execution_count": 95,
   "id": "fff2fcc9",
   "metadata": {},
   "outputs": [],
   "source": [
    "mean_age = round(test_data['Age'].mean(),2)\n",
    "test_data['Age'].fillna(mean_age,inplace=True)"
   ]
  },
  {
   "cell_type": "code",
   "execution_count": 96,
   "id": "035802f7",
   "metadata": {},
   "outputs": [],
   "source": [
    "emb_mode = test_data['Embarked'].mode()\n",
    "test_data['Embarked'].fillna(emb_mode[0],inplace=True)"
   ]
  },
  {
   "cell_type": "code",
   "execution_count": 97,
   "id": "d722c60b",
   "metadata": {},
   "outputs": [],
   "source": [
    "mean_fare = round(test_data['Fare'].mean(),2)\n",
    "test_data['Fare'].fillna(mean_fare,inplace=True)"
   ]
  },
  {
   "cell_type": "code",
   "execution_count": 98,
   "id": "ca5b89a5",
   "metadata": {},
   "outputs": [],
   "source": [
    "from sklearn.preprocessing import MinMaxScaler\n",
    "scaler = MinMaxScaler()\n",
    "scaler.fit(test_data[labled_cols])\n",
    "X_test_data = scaler.transform(test_data[labled_cols])"
   ]
  },
  {
   "cell_type": "code",
   "execution_count": 99,
   "id": "abb48f78",
   "metadata": {},
   "outputs": [],
   "source": [
    "X_test = pd.DataFrame(X_test_data, columns = labled_cols)"
   ]
  },
  {
   "cell_type": "code",
   "execution_count": 100,
   "id": "7fcdedaf",
   "metadata": {},
   "outputs": [],
   "source": [
    "X_test[['Sex','Embarked']] = test_data[['Sex','Embarked']] "
   ]
  },
  {
   "cell_type": "code",
   "execution_count": 101,
   "id": "1763302e",
   "metadata": {},
   "outputs": [],
   "source": [
    "file_to_read = open(r\"D:\\Learnings\\kaggle-projects\\titanic\\static\\categorical_scaled_map.pickle\", \"rb\")\n",
    "loaded_dictionary = pickle.load(file_to_read)"
   ]
  },
  {
   "cell_type": "code",
   "execution_count": 102,
   "id": "a4710539",
   "metadata": {},
   "outputs": [],
   "source": [
    "X_test['Sex'] = X_test['Sex'].map(loaded_dictionary['Sex'])"
   ]
  },
  {
   "cell_type": "code",
   "execution_count": 103,
   "id": "87c9b422",
   "metadata": {},
   "outputs": [],
   "source": [
    "X_test['Embarked'] = X_test['Embarked'].map(loaded_dictionary['Embarked'])"
   ]
  },
  {
   "cell_type": "code",
   "execution_count": 133,
   "id": "940a4c0b",
   "metadata": {},
   "outputs": [],
   "source": [
    "X_test = X_test[feature_cols]"
   ]
  },
  {
   "cell_type": "code",
   "execution_count": 134,
   "id": "2dc9595c",
   "metadata": {},
   "outputs": [],
   "source": [
    "X_test['Survived'] = lr.predict(X_test)"
   ]
  },
  {
   "cell_type": "code",
   "execution_count": 135,
   "id": "c37c642c",
   "metadata": {},
   "outputs": [],
   "source": [
    "X_test['PassengerId'] = test_data['PassengerId']"
   ]
  },
  {
   "cell_type": "code",
   "execution_count": 136,
   "id": "3f6cfabc",
   "metadata": {},
   "outputs": [],
   "source": [
    "X_test[['PassengerId','Survived']].to_csv('test_prediction_lr.csv', index=False)"
   ]
  },
  {
   "cell_type": "code",
   "execution_count": null,
   "id": "52e2fc18",
   "metadata": {},
   "outputs": [],
   "source": []
  }
 ],
 "metadata": {
  "kernelspec": {
   "display_name": "Python 3 (ipykernel)",
   "language": "python",
   "name": "python3"
  },
  "language_info": {
   "codemirror_mode": {
    "name": "ipython",
    "version": 3
   },
   "file_extension": ".py",
   "mimetype": "text/x-python",
   "name": "python",
   "nbconvert_exporter": "python",
   "pygments_lexer": "ipython3",
   "version": "3.9.7"
  }
 },
 "nbformat": 4,
 "nbformat_minor": 5
}
